{
 "cells": [
  {
   "cell_type": "code",
   "execution_count": 1,
   "metadata": {},
   "outputs": [
    {
     "name": "stderr",
     "output_type": "stream",
     "text": [
      "Warning message:\n",
      "\"package 'plyr' was built under R version 3.6.3\"Warning message:\n",
      "\"package 'arulesViz' was built under R version 3.6.3\"Loading required package: arules\n",
      "Warning message:\n",
      "\"package 'arules' was built under R version 3.6.3\"Loading required package: Matrix\n",
      "Warning message:\n",
      "\"package 'Matrix' was built under R version 3.6.3\"\n",
      "Attaching package: 'arules'\n",
      "\n",
      "The following objects are masked from 'package:base':\n",
      "\n",
      "    abbreviate, write\n",
      "\n"
     ]
    }
   ],
   "source": [
    "library(plyr)\n",
    "library(arulesViz)     #visualizing Association Rules and Frequent Itemsets\n",
    "library(arulesViz)  #Mining Association Rules and Frequent Itemsets"
   ]
  },
  {
   "cell_type": "code",
   "execution_count": 17,
   "metadata": {},
   "outputs": [],
   "source": [
    "groceries=read.csv(\"Groceries_dataset (2).csv\")  #loading dataset"
   ]
  },
  {
   "cell_type": "code",
   "execution_count": 18,
   "metadata": {},
   "outputs": [
    {
     "data": {
      "text/html": [
       "<table>\n",
       "<thead><tr><th scope=col>Member_number</th><th scope=col>Date</th><th scope=col>itemDescription</th></tr></thead>\n",
       "<tbody>\n",
       "\t<tr><td>1808          </td><td>7/21/2015     </td><td>tropical fruit</td></tr>\n",
       "\t<tr><td>2300          </td><td>9/19/2015     </td><td>pip fruit     </td></tr>\n",
       "\t<tr><td>4941          </td><td>2/14/2015     </td><td>rolls/buns    </td></tr>\n",
       "\t<tr><td>3803          </td><td>12/23/2015    </td><td>pot plants    </td></tr>\n",
       "\t<tr><td>2762          </td><td>3/20/2015     </td><td>whole milk    </td></tr>\n",
       "\t<tr><td>1340          </td><td>2/24/2015     </td><td>citrus fruit  </td></tr>\n",
       "</tbody>\n",
       "</table>\n"
      ],
      "text/latex": [
       "\\begin{tabular}{r|lll}\n",
       " Member\\_number & Date & itemDescription\\\\\n",
       "\\hline\n",
       "\t 1808           & 7/21/2015      & tropical fruit\\\\\n",
       "\t 2300           & 9/19/2015      & pip fruit     \\\\\n",
       "\t 4941           & 2/14/2015      & rolls/buns    \\\\\n",
       "\t 3803           & 12/23/2015     & pot plants    \\\\\n",
       "\t 2762           & 3/20/2015      & whole milk    \\\\\n",
       "\t 1340           & 2/24/2015      & citrus fruit  \\\\\n",
       "\\end{tabular}\n"
      ],
      "text/markdown": [
       "\n",
       "| Member_number | Date | itemDescription |\n",
       "|---|---|---|\n",
       "| 1808           | 7/21/2015      | tropical fruit |\n",
       "| 2300           | 9/19/2015      | pip fruit      |\n",
       "| 4941           | 2/14/2015      | rolls/buns     |\n",
       "| 3803           | 12/23/2015     | pot plants     |\n",
       "| 2762           | 3/20/2015      | whole milk     |\n",
       "| 1340           | 2/24/2015      | citrus fruit   |\n",
       "\n"
      ],
      "text/plain": [
       "  Member_number Date       itemDescription\n",
       "1 1808          7/21/2015  tropical fruit \n",
       "2 2300          9/19/2015  pip fruit      \n",
       "3 4941          2/14/2015  rolls/buns     \n",
       "4 3803          12/23/2015 pot plants     \n",
       "5 2762          3/20/2015  whole milk     \n",
       "6 1340          2/24/2015  citrus fruit   "
      ]
     },
     "metadata": {},
     "output_type": "display_data"
    }
   ],
   "source": [
    "head(groceries)  #first 6 rows"
   ]
  },
  {
   "cell_type": "code",
   "execution_count": 19,
   "metadata": {},
   "outputs": [
    {
     "data": {
      "text/html": [
       "<table>\n",
       "<thead><tr><th></th><th scope=col>Member_number</th><th scope=col>Date</th><th scope=col>itemDescription</th></tr></thead>\n",
       "<tbody>\n",
       "\t<tr><th scope=row>38760</th><td>1146                 </td><td>12/7/2014            </td><td>waffles              </td></tr>\n",
       "\t<tr><th scope=row>38761</th><td>4796                 </td><td>2/3/2014             </td><td>Instant food products</td></tr>\n",
       "\t<tr><th scope=row>38762</th><td>4376                 </td><td>7/12/2014            </td><td>rolls/buns           </td></tr>\n",
       "\t<tr><th scope=row>38763</th><td>3364                 </td><td>6/5/2014             </td><td>oil                  </td></tr>\n",
       "\t<tr><th scope=row>38764</th><td>4471                 </td><td>8/10/2014            </td><td>sliced cheese        </td></tr>\n",
       "\t<tr><th scope=row>38765</th><td>1510                 </td><td>3/12/2014            </td><td>fruit/vegetable juice</td></tr>\n",
       "</tbody>\n",
       "</table>\n"
      ],
      "text/latex": [
       "\\begin{tabular}{r|lll}\n",
       "  & Member\\_number & Date & itemDescription\\\\\n",
       "\\hline\n",
       "\t38760 & 1146                  & 12/7/2014             & waffles              \\\\\n",
       "\t38761 & 4796                  & 2/3/2014              & Instant food products\\\\\n",
       "\t38762 & 4376                  & 7/12/2014             & rolls/buns           \\\\\n",
       "\t38763 & 3364                  & 6/5/2014              & oil                  \\\\\n",
       "\t38764 & 4471                  & 8/10/2014             & sliced cheese        \\\\\n",
       "\t38765 & 1510                  & 3/12/2014             & fruit/vegetable juice\\\\\n",
       "\\end{tabular}\n"
      ],
      "text/markdown": [
       "\n",
       "| <!--/--> | Member_number | Date | itemDescription |\n",
       "|---|---|---|---|\n",
       "| 38760 | 1146                  | 12/7/2014             | waffles               |\n",
       "| 38761 | 4796                  | 2/3/2014              | Instant food products |\n",
       "| 38762 | 4376                  | 7/12/2014             | rolls/buns            |\n",
       "| 38763 | 3364                  | 6/5/2014              | oil                   |\n",
       "| 38764 | 4471                  | 8/10/2014             | sliced cheese         |\n",
       "| 38765 | 1510                  | 3/12/2014             | fruit/vegetable juice |\n",
       "\n"
      ],
      "text/plain": [
       "      Member_number Date      itemDescription      \n",
       "38760 1146          12/7/2014 waffles              \n",
       "38761 4796          2/3/2014  Instant food products\n",
       "38762 4376          7/12/2014 rolls/buns           \n",
       "38763 3364          6/5/2014  oil                  \n",
       "38764 4471          8/10/2014 sliced cheese        \n",
       "38765 1510          3/12/2014 fruit/vegetable juice"
      ]
     },
     "metadata": {},
     "output_type": "display_data"
    }
   ],
   "source": [
    "tail(groceries)    #last 6 rows"
   ]
  },
  {
   "cell_type": "code",
   "execution_count": 20,
   "metadata": {},
   "outputs": [
    {
     "name": "stdout",
     "output_type": "stream",
     "text": [
      "'data.frame':\t38765 obs. of  3 variables:\n",
      " $ Member_number  : int  1808 2300 4941 3803 2762 1340 2193 1997 4736 1959 ...\n",
      " $ Date           : Factor w/ 728 levels \"1/1/2014\",\"1/1/2015\",..: 572 690 256 216 326 278 374 572 572 348 ...\n",
      " $ itemDescription: Factor w/ 167 levels \"abrasive cleaner\",..: 156 109 122 112 165 29 7 55 14 63 ...\n"
     ]
    }
   ],
   "source": [
    "str(groceries)  #structure of features"
   ]
  },
  {
   "cell_type": "code",
   "execution_count": 21,
   "metadata": {},
   "outputs": [
    {
     "data": {
      "text/html": [
       "<ol class=list-inline>\n",
       "\t<li>38765</li>\n",
       "\t<li>3</li>\n",
       "</ol>\n"
      ],
      "text/latex": [
       "\\begin{enumerate*}\n",
       "\\item 38765\n",
       "\\item 3\n",
       "\\end{enumerate*}\n"
      ],
      "text/markdown": [
       "1. 38765\n",
       "2. 3\n",
       "\n",
       "\n"
      ],
      "text/plain": [
       "[1] 38765     3"
      ]
     },
     "metadata": {},
     "output_type": "display_data"
    }
   ],
   "source": [
    "dim(groceries)  #dimension of dataset"
   ]
  },
  {
   "cell_type": "code",
   "execution_count": 22,
   "metadata": {},
   "outputs": [
    {
     "data": {
      "text/plain": [
       " Member_number          Date               itemDescription \n",
       " Min.   :1000   1/21/2015 :   96   whole milk      : 2502  \n",
       " 1st Qu.:2002   7/21/2015 :   93   other vegetables: 1898  \n",
       " Median :3005   11/29/2015:   92   rolls/buns      : 1716  \n",
       " Mean   :3004   8/8/2015  :   92   soda            : 1514  \n",
       " 3rd Qu.:4007   4/30/2015 :   91   yogurt          : 1334  \n",
       " Max.   :5000   3/26/2015 :   88   root vegetables : 1071  \n",
       "                (Other)   :38213   (Other)         :28730  "
      ]
     },
     "metadata": {},
     "output_type": "display_data"
    }
   ],
   "source": [
    "summary(groceries)  #statistical summary"
   ]
  },
  {
   "cell_type": "code",
   "execution_count": 47,
   "metadata": {},
   "outputs": [
    {
     "data": {
      "text/html": [
       "0"
      ],
      "text/latex": [
       "0"
      ],
      "text/markdown": [
       "0"
      ],
      "text/plain": [
       "[1] 0"
      ]
     },
     "metadata": {},
     "output_type": "display_data"
    }
   ],
   "source": [
    "sum(is.na(groceries))  #checking for null values"
   ]
  },
  {
   "cell_type": "code",
   "execution_count": 23,
   "metadata": {},
   "outputs": [],
   "source": [
    "groceries$Date=as.Date(groceries$Date, format=(\"%m/%d/%Y\"))   #converting Date to date"
   ]
  },
  {
   "cell_type": "code",
   "execution_count": 24,
   "metadata": {},
   "outputs": [],
   "source": [
    "groceries$Member_number=as.numeric(groceries$Member_number)   #converting Member_number to number"
   ]
  },
  {
   "cell_type": "code",
   "execution_count": 25,
   "metadata": {},
   "outputs": [
    {
     "data": {
      "text/html": [
       "<table>\n",
       "<thead><tr><th scope=col>Member_number</th><th scope=col>Date</th><th scope=col>itemDescription</th></tr></thead>\n",
       "<tbody>\n",
       "\t<tr><td>1808          </td><td>2015-07-21    </td><td>tropical fruit</td></tr>\n",
       "\t<tr><td>2300          </td><td>2015-09-19    </td><td>pip fruit     </td></tr>\n",
       "\t<tr><td>4941          </td><td>2015-02-14    </td><td>rolls/buns    </td></tr>\n",
       "\t<tr><td>3803          </td><td>2015-12-23    </td><td>pot plants    </td></tr>\n",
       "\t<tr><td>2762          </td><td>2015-03-20    </td><td>whole milk    </td></tr>\n",
       "\t<tr><td>1340          </td><td>2015-02-24    </td><td>citrus fruit  </td></tr>\n",
       "</tbody>\n",
       "</table>\n"
      ],
      "text/latex": [
       "\\begin{tabular}{r|lll}\n",
       " Member\\_number & Date & itemDescription\\\\\n",
       "\\hline\n",
       "\t 1808           & 2015-07-21     & tropical fruit\\\\\n",
       "\t 2300           & 2015-09-19     & pip fruit     \\\\\n",
       "\t 4941           & 2015-02-14     & rolls/buns    \\\\\n",
       "\t 3803           & 2015-12-23     & pot plants    \\\\\n",
       "\t 2762           & 2015-03-20     & whole milk    \\\\\n",
       "\t 1340           & 2015-02-24     & citrus fruit  \\\\\n",
       "\\end{tabular}\n"
      ],
      "text/markdown": [
       "\n",
       "| Member_number | Date | itemDescription |\n",
       "|---|---|---|\n",
       "| 1808           | 2015-07-21     | tropical fruit |\n",
       "| 2300           | 2015-09-19     | pip fruit      |\n",
       "| 4941           | 2015-02-14     | rolls/buns     |\n",
       "| 3803           | 2015-12-23     | pot plants     |\n",
       "| 2762           | 2015-03-20     | whole milk     |\n",
       "| 1340           | 2015-02-24     | citrus fruit   |\n",
       "\n"
      ],
      "text/plain": [
       "  Member_number Date       itemDescription\n",
       "1 1808          2015-07-21 tropical fruit \n",
       "2 2300          2015-09-19 pip fruit      \n",
       "3 4941          2015-02-14 rolls/buns     \n",
       "4 3803          2015-12-23 pot plants     \n",
       "5 2762          2015-03-20 whole milk     \n",
       "6 1340          2015-02-24 citrus fruit   "
      ]
     },
     "metadata": {},
     "output_type": "display_data"
    }
   ],
   "source": [
    "head(groceries)    #first 6 rows"
   ]
  },
  {
   "cell_type": "code",
   "execution_count": 26,
   "metadata": {},
   "outputs": [],
   "source": [
    "#aggregating itemDescription based on Member_number and Date with \",\" seperator\n",
    "groceries= ddply(groceries, c(\"Member_number\",\"Date\"), function(df1)paste(df1$itemDescription, collapse = \",\"))"
   ]
  },
  {
   "cell_type": "code",
   "execution_count": 29,
   "metadata": {},
   "outputs": [],
   "source": [
    "colnames(groceries) <- c(\"Member_number\",\"Date\",\"itemList\")  # setting a name for the third column"
   ]
  },
  {
   "cell_type": "code",
   "execution_count": 30,
   "metadata": {},
   "outputs": [
    {
     "data": {
      "text/html": [
       "<table>\n",
       "<thead><tr><th scope=col>Member_number</th><th scope=col>Date</th><th scope=col>itemList</th></tr></thead>\n",
       "<tbody>\n",
       "\t<tr><td>1000                                         </td><td>2014-06-24                                   </td><td>whole milk,pastry,salty snack                </td></tr>\n",
       "\t<tr><td>1000                                         </td><td>2015-03-15                                   </td><td>sausage,whole milk,semi-finished bread,yogurt</td></tr>\n",
       "\t<tr><td>1000                                         </td><td>2015-05-27                                   </td><td>soda,pickled vegetables                      </td></tr>\n",
       "\t<tr><td>1000                                         </td><td>2015-07-24                                   </td><td>canned beer,misc. beverages                  </td></tr>\n",
       "\t<tr><td>1000                                         </td><td>2015-11-25                                   </td><td>sausage,hygiene articles                     </td></tr>\n",
       "\t<tr><td>1001                                         </td><td>2014-07-02                                   </td><td>sausage,whole milk,rolls/buns                </td></tr>\n",
       "</tbody>\n",
       "</table>\n"
      ],
      "text/latex": [
       "\\begin{tabular}{r|lll}\n",
       " Member\\_number & Date & itemList\\\\\n",
       "\\hline\n",
       "\t 1000                                          & 2014-06-24                                    & whole milk,pastry,salty snack                \\\\\n",
       "\t 1000                                          & 2015-03-15                                    & sausage,whole milk,semi-finished bread,yogurt\\\\\n",
       "\t 1000                                          & 2015-05-27                                    & soda,pickled vegetables                      \\\\\n",
       "\t 1000                                          & 2015-07-24                                    & canned beer,misc. beverages                  \\\\\n",
       "\t 1000                                          & 2015-11-25                                    & sausage,hygiene articles                     \\\\\n",
       "\t 1001                                          & 2014-07-02                                    & sausage,whole milk,rolls/buns                \\\\\n",
       "\\end{tabular}\n"
      ],
      "text/markdown": [
       "\n",
       "| Member_number | Date | itemList |\n",
       "|---|---|---|\n",
       "| 1000                                          | 2014-06-24                                    | whole milk,pastry,salty snack                 |\n",
       "| 1000                                          | 2015-03-15                                    | sausage,whole milk,semi-finished bread,yogurt |\n",
       "| 1000                                          | 2015-05-27                                    | soda,pickled vegetables                       |\n",
       "| 1000                                          | 2015-07-24                                    | canned beer,misc. beverages                   |\n",
       "| 1000                                          | 2015-11-25                                    | sausage,hygiene articles                      |\n",
       "| 1001                                          | 2014-07-02                                    | sausage,whole milk,rolls/buns                 |\n",
       "\n"
      ],
      "text/plain": [
       "  Member_number Date       itemList                                     \n",
       "1 1000          2014-06-24 whole milk,pastry,salty snack                \n",
       "2 1000          2015-03-15 sausage,whole milk,semi-finished bread,yogurt\n",
       "3 1000          2015-05-27 soda,pickled vegetables                      \n",
       "4 1000          2015-07-24 canned beer,misc. beverages                  \n",
       "5 1000          2015-11-25 sausage,hygiene articles                     \n",
       "6 1001          2014-07-02 sausage,whole milk,rolls/buns                "
      ]
     },
     "metadata": {},
     "output_type": "display_data"
    }
   ],
   "source": [
    "head(groceries)    #first 6 rows and seeing the change"
   ]
  },
  {
   "cell_type": "code",
   "execution_count": 32,
   "metadata": {},
   "outputs": [],
   "source": [
    "#Save groceries data frame in your pc\n",
    "write.csv(groceries, file = 'groceries_itemlist.csv', quote = FALSE, row.names = TRUE)"
   ]
  },
  {
   "cell_type": "code",
   "execution_count": 34,
   "metadata": {},
   "outputs": [
    {
     "name": "stdout",
     "output_type": "stream",
     "text": [
      "distribution of transactions with duplicates:\n",
      "items\n",
      "  1   2   3   4 \n",
      "662  39   5   1 \n"
     ]
    }
   ],
   "source": [
    "#Construct transaction Object\n",
    "TransData = read.transactions(file='groceries_itemlist.csv', rm.duplicates= TRUE, format=\"basket\",sep=\",\",cols=1)"
   ]
  },
  {
   "cell_type": "code",
   "execution_count": 41,
   "metadata": {},
   "outputs": [
    {
     "data": {
      "image/png": "[encoded data removed]",
      "text/plain": [
       "plot without title"
      ]
     },
     "metadata": {},
     "output_type": "display_data"
    }
   ],
   "source": [
    "# Displays itemFrequency\n",
    "itemFrequencyPlot(TransData, topN = 10)"
   ]
  },
  {
   "cell_type": "code",
   "execution_count": 55,
   "metadata": {},
   "outputs": [
    {
     "name": "stdout",
     "output_type": "stream",
     "text": [
      "Apriori\n",
      "\n",
      "Parameter specification:\n",
      " confidence minval smax arem  aval originalSupport maxtime support minlen\n",
      "       0.05    0.1    1 none FALSE            TRUE       5   0.001      1\n",
      " maxlen target  ext\n",
      "     10  rules TRUE\n",
      "\n",
      "Algorithmic control:\n",
      " filter tree heap memopt load sort verbose\n",
      "    0.1 TRUE TRUE  FALSE TRUE    2    TRUE\n",
      "\n",
      "Absolute minimum support count: 14 \n",
      "\n",
      "set item appearances ...[0 item(s)] done [0.00s].\n",
      "set transactions ...[4796 item(s), 14964 transaction(s)] done [0.03s].\n",
      "sorting and recoding items ... [804 item(s)] done [0.00s].\n",
      "creating transaction tree ... done [0.00s].\n",
      "checking subsets of size 1 2 3 4 done [0.01s].\n",
      "writing ... [461 rule(s)] done [0.00s].\n",
      "creating S4 object  ... done [0.00s].\n"
     ]
    }
   ],
   "source": [
    "#Apriori algorithm Implementation \n",
    "basket_rules=apriori(TransData, parameter = list(minlen=1, sup = 0.001, conf = 0.05))"
   ]
  },
  {
   "cell_type": "code",
   "execution_count": 56,
   "metadata": {},
   "outputs": [
    {
     "data": {
      "text/html": [
       "461"
      ],
      "text/latex": [
       "461"
      ],
      "text/markdown": [
       "461"
      ],
      "text/plain": [
       "[1] 461"
      ]
     },
     "metadata": {},
     "output_type": "display_data"
    }
   ],
   "source": [
    "length(basket_rules)"
   ]
  },
  {
   "cell_type": "code",
   "execution_count": 38,
   "metadata": {},
   "outputs": [
    {
     "data": {
      "text/plain": [
       "set of 450 rules\n",
       "\n",
       "rule length distribution (lhs + rhs):sizes\n",
       "  2   3 \n",
       "423  27 \n",
       "\n",
       "   Min. 1st Qu.  Median    Mean 3rd Qu.    Max. \n",
       "   2.00    2.00    2.00    2.06    2.00    3.00 \n",
       "\n",
       "summary of quality measures:\n",
       "    support           confidence         coverage             lift       \n",
       " Min.   :0.001002   Min.   :0.05000   Min.   :0.005346   Min.   :0.5195  \n",
       " 1st Qu.:0.001270   1st Qu.:0.06397   1st Qu.:0.015972   1st Qu.:0.7673  \n",
       " Median :0.001938   Median :0.08108   Median :0.023590   Median :0.8350  \n",
       " Mean   :0.002760   Mean   :0.08759   Mean   :0.033723   Mean   :0.8859  \n",
       " 3rd Qu.:0.003341   3rd Qu.:0.10482   3rd Qu.:0.043705   3rd Qu.:0.9601  \n",
       " Max.   :0.014836   Max.   :0.25581   Max.   :0.157912   Max.   :2.1831  \n",
       "     count      \n",
       " Min.   : 15.0  \n",
       " 1st Qu.: 19.0  \n",
       " Median : 29.0  \n",
       " Mean   : 41.3  \n",
       " 3rd Qu.: 50.0  \n",
       " Max.   :222.0  \n",
       "\n",
       "mining info:\n",
       "      data ntransactions support confidence\n",
       " TransData         14964   0.001       0.05"
      ]
     },
     "metadata": {},
     "output_type": "display_data"
    }
   ],
   "source": [
    "summary(basket_rules)"
   ]
  },
  {
   "cell_type": "code",
   "execution_count": 40,
   "metadata": {},
   "outputs": [
    {
     "name": "stdout",
     "output_type": "stream",
     "text": [
      "     lhs                        rhs               support     confidence\n",
      "[1]  {whole milk,yogurt}     => {sausage}         0.001470195 0.13173653\n",
      "[2]  {sausage,whole milk}    => {yogurt}          0.001470195 0.16417910\n",
      "[3]  {specialty chocolate}   => {citrus fruit}    0.001403368 0.08786611\n",
      "[4]  {sausage,yogurt}        => {whole milk}      0.001470195 0.25581395\n",
      "[5]  {flour}                 => {tropical fruit}  0.001069233 0.10958904\n",
      "[6]  {beverages}             => {sausage}         0.001537022 0.09274194\n",
      "[7]  {soda,whole milk}       => {sausage}         0.001069233 0.09195402\n",
      "[8]  {napkins}               => {pastry}          0.001737503 0.07854985\n",
      "[9]  {processed cheese}      => {root vegetables} 0.001069233 0.10526316\n",
      "[10] {hard cheese}           => {pip fruit}       0.001069233 0.07272727\n",
      "[11] {soft cheese}           => {yogurt}          0.001269714 0.12666667\n",
      "[12] {curd}                  => {sausage}         0.002940390 0.08730159\n",
      "[13] {detergent}             => {yogurt}          0.001069233 0.12403101\n",
      "[14] {sugar}                 => {bottled water}   0.001470195 0.08301887\n",
      "[15] {white bread}           => {canned beer}     0.001537022 0.06406685\n",
      "[16] {brown bread}           => {canned beer}     0.002405774 0.06394316\n",
      "[17] {canned beer}           => {brown bread}     0.002405774 0.05128205\n",
      "[18] {chewing gum}           => {yogurt}          0.001403368 0.11666667\n",
      "[19] {rolls/buns,whole milk} => {sausage}         0.001136060 0.08133971\n",
      "[20] {rolls/buns,sausage}    => {whole milk}      0.001136060 0.21250000\n",
      "     coverage    lift     count\n",
      "[1]  0.011160118 2.183062 22   \n",
      "[2]  0.008954825 1.911888 22   \n",
      "[3]  0.015971665 1.653872 21   \n",
      "[4]  0.005747126 1.619975 22   \n",
      "[5]  0.009756750 1.617249 16   \n",
      "[6]  0.016573109 1.536866 23   \n",
      "[7]  0.011627907 1.523810 16   \n",
      "[8]  0.022119754 1.518630 26   \n",
      "[9]  0.010157712 1.513120 16   \n",
      "[10] 0.014701951 1.482685 16   \n",
      "[11] 0.010024058 1.475051 19   \n",
      "[12] 0.033680834 1.446712 44   \n",
      "[13] 0.008620690 1.444358 16   \n",
      "[14] 0.017709169 1.368166 22   \n",
      "[15] 0.023990912 1.365664 23   \n",
      "[16] 0.037623630 1.363028 36   \n",
      "[17] 0.046912590 1.363028 36   \n",
      "[18] 0.012028869 1.358599 21   \n",
      "[19] 0.013966854 1.347915 17   \n",
      "[20] 0.005346164 1.345683 17   \n"
     ]
    }
   ],
   "source": [
    "#Display the top 20 rules with the highest lift \n",
    "inspect(head(sort(basket_rules,by=\"lift\"),20))"
   ]
  },
  {
   "cell_type": "code",
   "execution_count": 44,
   "metadata": {
    "scrolled": true
   },
   "outputs": [
    {
     "data": {
      "image/png": "[encoded data removed]",
      "text/plain": [
       "plot without title"
      ]
     },
     "metadata": {},
     "output_type": "display_data"
    }
   ],
   "source": [
    "# Displays scatterplot\n",
    "plot(basket_rules, method=\"scatterplot\", jitter = 0)"
   ]
  },
  {
   "cell_type": "code",
   "execution_count": 45,
   "metadata": {},
   "outputs": [
    {
     "data": {
      "image/png": "[encoded data removed]",
      "text/plain": [
       "Plot with title \"Graph for 50 rules\""
      ]
     },
     "metadata": {},
     "output_type": "display_data"
    }
   ],
   "source": [
    "#Visualizing the top 50 rules with the highest lift and plot them\n",
    "plot(head(sort(basket_rules,by=\"lift\"),50), method=\"graph\")"
   ]
  },
  {
   "cell_type": "code",
   "execution_count": 46,
   "metadata": {},
   "outputs": [
    {
     "data": {
      "image/png": "[encoded data removed]",
      "text/plain": [
       "plot without title"
      ]
     },
     "metadata": {},
     "output_type": "display_data"
    }
   ],
   "source": [
    "#Visualizing the top 20 rules with the highest lift\n",
    "plot(head(sort(basket_rules,by=\"lift\"),20), method=\"paracoord\")"
   ]
  },
  {
   "cell_type": "code",
   "execution_count": null,
   "metadata": {},
   "outputs": [],
   "source": []
  },
  {
   "cell_type": "code",
   "execution_count": null,
   "metadata": {},
   "outputs": [],
   "source": []
  },
  {
   "cell_type": "code",
   "execution_count": null,
   "metadata": {},
   "outputs": [],
   "source": []
  }
 ],
 "metadata": {
  "kernelspec": {
   "display_name": "R",
   "language": "R",
   "name": "ir"
  },
  "language_info": {
   "codemirror_mode": "r",
   "file_extension": ".r",
   "mimetype": "text/x-r-source",
   "name": "R",
   "pygments_lexer": "r",
   "version": "3.6.1"
  }
 },
 "nbformat": 4,
 "nbformat_minor": 2
}
